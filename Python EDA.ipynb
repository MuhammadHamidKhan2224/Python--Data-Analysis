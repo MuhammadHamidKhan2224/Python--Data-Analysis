{
 "cells": [
  {
   "cell_type": "markdown",
   "id": "6026cc92",
   "metadata": {},
   "source": [
    "## Task 1: Dictionary Operations "
   ]
  },
  {
   "cell_type": "markdown",
   "id": "d5f2ff41",
   "metadata": {},
   "source": [
    "###### Added the dictionay which has Countries name with their capitals."
   ]
  },
  {
   "cell_type": "code",
   "execution_count": 2,
   "id": "89eb873c",
   "metadata": {},
   "outputs": [],
   "source": [
    "capitals = {'Pakistan':'Islamabad','India': 'Dehli','Bangadesh':'Dhaka','Afghanistan': 'Kabul', 'Australia': 'Canberra','Azerbaijan':'Baku','Brazil':'Brasilia'}"
   ]
  },
  {
   "cell_type": "code",
   "execution_count": 62,
   "id": "f3017894",
   "metadata": {},
   "outputs": [
    {
     "data": {
      "text/plain": [
       "{'Pakistan': 'Islamabad',\n",
       " 'India': 'Dehli',\n",
       " 'Bangadesh': 'Dhaka',\n",
       " 'Afghanistan': 'Kabul',\n",
       " 'Australia': 'Canberra',\n",
       " 'Azerbaijan': 'Baku',\n",
       " 'Brazil': 'Brasilia',\n",
       " 'Germany': 'Berlin City',\n",
       " 'France': 'Paris'}"
      ]
     },
     "execution_count": 62,
     "metadata": {},
     "output_type": "execute_result"
    }
   ],
   "source": [
    "capitals"
   ]
  },
  {
   "cell_type": "markdown",
   "id": "b4d9917f",
   "metadata": {},
   "source": [
    "##### Added new countries and their capitals in the existing list "
   ]
  },
  {
   "cell_type": "code",
   "execution_count": 8,
   "id": "a09580f6",
   "metadata": {},
   "outputs": [],
   "source": [
    "capitals['Germany']='Berlin City'"
   ]
  },
  {
   "cell_type": "code",
   "execution_count": 9,
   "id": "4e2ef285",
   "metadata": {
    "scrolled": true
   },
   "outputs": [
    {
     "data": {
      "text/plain": [
       "{'Pakistan': 'Islamabad',\n",
       " 'India': 'Dehli',\n",
       " 'Bangadesh': 'Dhaka',\n",
       " 'Afghanistan': 'Kabul',\n",
       " 'Australia': 'Canberra',\n",
       " 'Azerbaijan': 'Baku',\n",
       " 'Brazil': 'Brasilia',\n",
       " 'Germany': 'Berlin City'}"
      ]
     },
     "execution_count": 9,
     "metadata": {},
     "output_type": "execute_result"
    }
   ],
   "source": [
    "capitals"
   ]
  },
  {
   "cell_type": "markdown",
   "id": "39f3df71",
   "metadata": {},
   "source": [
    "##### Dictonary reassignment while entering new key and its value "
   ]
  },
  {
   "cell_type": "code",
   "execution_count": 10,
   "id": "b4cee4dd",
   "metadata": {},
   "outputs": [],
   "source": [
    "capitals['France'] = 'Paris'"
   ]
  },
  {
   "cell_type": "code",
   "execution_count": 11,
   "id": "db8e5333",
   "metadata": {},
   "outputs": [
    {
     "data": {
      "text/plain": [
       "{'Pakistan': 'Islamabad',\n",
       " 'India': 'Dehli',\n",
       " 'Bangadesh': 'Dhaka',\n",
       " 'Afghanistan': 'Kabul',\n",
       " 'Australia': 'Canberra',\n",
       " 'Azerbaijan': 'Baku',\n",
       " 'Brazil': 'Brasilia',\n",
       " 'Germany': 'Berlin City',\n",
       " 'France': 'Paris'}"
      ]
     },
     "execution_count": 11,
     "metadata": {},
     "output_type": "execute_result"
    }
   ],
   "source": [
    "capitals"
   ]
  },
  {
   "cell_type": "markdown",
   "id": "7666131f",
   "metadata": {},
   "source": [
    "##### Applied the IF Condition to check if the desired country exist is the dictionay and print appropriate messege fot it."
   ]
  },
  {
   "cell_type": "code",
   "execution_count": 13,
   "id": "2a962f39",
   "metadata": {},
   "outputs": [
    {
     "name": "stdout",
     "output_type": "stream",
     "text": [
      "Yes France is in the dictionay and its capital is Paris\n"
     ]
    }
   ],
   "source": [
    "if 'France' in capitals:\n",
    "    print('Yes France is in the dictionay and its capital is Paris')\n",
    "else:\n",
    "    print('Sorry I could not find it')"
   ]
  },
  {
   "cell_type": "markdown",
   "id": "7b8feb88",
   "metadata": {},
   "source": [
    "## Task 2: Comparison Operators, Logical Operators, and If/Else "
   ]
  },
  {
   "cell_type": "markdown",
   "id": "42886175",
   "metadata": {},
   "source": [
    "##### Applied the conditional formating to check the even and odd number and print messges based on their nature"
   ]
  },
  {
   "cell_type": "code",
   "execution_count": 3,
   "id": "547a5d84",
   "metadata": {},
   "outputs": [
    {
     "name": "stdout",
     "output_type": "stream",
     "text": [
      "Enter a number: 6\n",
      "The number 6 is even.\n"
     ]
    }
   ],
   "source": [
    "\n",
    "user_input = input(\"Enter a number: \")\n",
    "\n",
    "number = int(user_input)\n",
    "\n",
    "if number % 2 == 0:\n",
    "    print(f\"The number {number} is even.\")\n",
    "else:\n",
    "    print(f\"The number {number} is odd.\")"
   ]
  },
  {
   "cell_type": "markdown",
   "id": "8bcfae57",
   "metadata": {},
   "source": [
    "##### Applied the If condition to check the admission eligibilty based on two factors AGE and GPA"
   ]
  },
  {
   "cell_type": "code",
   "execution_count": 32,
   "id": "fe71f7a9",
   "metadata": {},
   "outputs": [
    {
     "name": "stdout",
     "output_type": "stream",
     "text": [
      "Your age at the time of application: 19\n",
      "Your GPA in latest Degree: 2.3\n",
      "Soryy! You are not eligible for admission, try next time\n"
     ]
    }
   ],
   "source": [
    "Age_input = input(\"Your age at the time of application: \")\n",
    "age = int(Age_input)  \n",
    "\n",
    "GPA_input = input(\"Your GPA in latest Degree: \")\n",
    "gpa = float(GPA_input.strip(']'))  \n",
    "\n",
    "\n",
    "if 18 <= age <= 35 and gpa >= 2.5:\n",
    "    print(\" Your are wellcome ): You are eligible for admission\")\n",
    "else:\n",
    "    print(\"Soryy! You are not eligible for admission, try next time\")\n",
    "\n",
    "\n"
   ]
  },
  {
   "cell_type": "markdown",
   "id": "1b929a4f",
   "metadata": {},
   "source": [
    "## Task 3: Advanced Data Types"
   ]
  },
  {
   "cell_type": "markdown",
   "id": "bda02195",
   "metadata": {},
   "source": [
    "#### Fruit Basket "
   ]
  },
  {
   "cell_type": "code",
   "execution_count": 33,
   "id": "ab9936dc",
   "metadata": {},
   "outputs": [
    {
     "name": "stdout",
     "output_type": "stream",
     "text": [
      "{'date', 'nectarine', 'grape', 'orange', 'apple', 'mango', 'lemon', 'papaya', 'honeydew', 'quince', 'kiwi', 'elderberry', 'fig', 'banana', 'cherry'}\n"
     ]
    }
   ],
   "source": [
    "\n",
    "fruits_set = {\n",
    "    'apple', 'banana', 'cherry', 'date', 'elderberry', 'fig', \n",
    "    'grape', 'honeydew', 'kiwi', 'lemon', 'mango', 'nectarine', \n",
    "    'orange', 'papaya', 'quince'\n",
    "}\n",
    "\n",
    "print(fruits_set)"
   ]
  },
  {
   "cell_type": "markdown",
   "id": "c53c5c04",
   "metadata": {},
   "source": [
    "#### Sets and application of various operation on them"
   ]
  },
  {
   "cell_type": "code",
   "execution_count": 34,
   "id": "d215f665",
   "metadata": {},
   "outputs": [],
   "source": [
    "Set1 = {1,2,3,4,5,6,7,8,9,10,11,12,2,3,1,3,4,2,4,2,22,33,22,12,11,14,13,13,}\n"
   ]
  },
  {
   "cell_type": "code",
   "execution_count": 36,
   "id": "7a6bd277",
   "metadata": {},
   "outputs": [],
   "source": [
    "Set2 = { 32,22,21,1,2,3,4,5,7,9,2,4,1,2,1,3,1,4,1,12,14,14,12,14,14,14,12,14}"
   ]
  },
  {
   "cell_type": "code",
   "execution_count": 39,
   "id": "699390d1",
   "metadata": {},
   "outputs": [],
   "source": [
    "union_result = Set1.union(Set2)\n"
   ]
  },
  {
   "cell_type": "code",
   "execution_count": 45,
   "id": "b2988155",
   "metadata": {},
   "outputs": [],
   "source": [
    "intersection_result = Set1.intersection(Set2)\n",
    " "
   ]
  },
  {
   "cell_type": "code",
   "execution_count": 40,
   "id": "f545f628",
   "metadata": {},
   "outputs": [],
   "source": [
    "difference_result_1 = Set1.difference(Set2)"
   ]
  },
  {
   "cell_type": "code",
   "execution_count": 41,
   "id": "c7c91529",
   "metadata": {},
   "outputs": [],
   "source": [
    "difference_result_2 = Set2.difference(Set1)  "
   ]
  },
  {
   "cell_type": "code",
   "execution_count": 42,
   "id": "87ba60d4",
   "metadata": {},
   "outputs": [],
   "source": [
    "is_subset_result_1 = Set1.issubset(Set2)  "
   ]
  },
  {
   "cell_type": "code",
   "execution_count": 43,
   "id": "9f8995cc",
   "metadata": {},
   "outputs": [],
   "source": [
    "is_subset_result_2 = Set2.issubset(Set1) "
   ]
  },
  {
   "cell_type": "code",
   "execution_count": 46,
   "id": "0e33b6dc",
   "metadata": {},
   "outputs": [
    {
     "data": {
      "text/plain": [
       "({1, 2, 3, 4, 5, 6, 7, 8, 9, 10, 11, 12, 13, 14, 21, 22, 32, 33},\n",
       " {1, 2, 3, 4, 5, 7, 9, 12, 14, 22},\n",
       " {6, 8, 10, 11, 13, 33},\n",
       " {21, 32},\n",
       " False,\n",
       " False)"
      ]
     },
     "execution_count": 46,
     "metadata": {},
     "output_type": "execute_result"
    }
   ],
   "source": [
    "union_result, intersection_result, difference_result_1, difference_result_2, is_subset_result_1, is_subset_result_2"
   ]
  },
  {
   "cell_type": "markdown",
   "id": "827f2ccb",
   "metadata": {},
   "source": [
    "## Task 4: Strings Manipulation "
   ]
  },
  {
   "cell_type": "code",
   "execution_count": 15,
   "id": "5b872b62",
   "metadata": {},
   "outputs": [],
   "source": [
    "my_self = \"My name is  M.Hamid Khan, I am the good student of Data Science at Atomcamp\""
   ]
  },
  {
   "cell_type": "code",
   "execution_count": 16,
   "id": "06e8e1ce",
   "metadata": {},
   "outputs": [],
   "source": [
    "length = len(my_self)  "
   ]
  },
  {
   "cell_type": "code",
   "execution_count": 17,
   "id": "cd540395",
   "metadata": {},
   "outputs": [],
   "source": [
    "uppercase_sentence = my_self.upper() "
   ]
  },
  {
   "cell_type": "code",
   "execution_count": 18,
   "id": "c6b366fe",
   "metadata": {},
   "outputs": [],
   "source": [
    "replaced_sentence = my_self.replace(\"good\", \"excellent\")  "
   ]
  },
  {
   "cell_type": "code",
   "execution_count": 9,
   "id": "31461433",
   "metadata": {},
   "outputs": [],
   "source": [
    "check_substring = \"Data Science\" in my_self "
   ]
  },
  {
   "cell_type": "code",
   "execution_count": 10,
   "id": "67c39cc4",
   "metadata": {},
   "outputs": [],
   "source": [
    "split_sentence = my_self.split() "
   ]
  },
  {
   "cell_type": "code",
   "execution_count": 11,
   "id": "99d98868",
   "metadata": {},
   "outputs": [
    {
     "data": {
      "text/plain": [
       "75"
      ]
     },
     "execution_count": 11,
     "metadata": {},
     "output_type": "execute_result"
    }
   ],
   "source": [
    "length"
   ]
  },
  {
   "cell_type": "code",
   "execution_count": 12,
   "id": "742a5b8c",
   "metadata": {},
   "outputs": [
    {
     "data": {
      "text/plain": [
       "'MY NAME IS  M.HAMID KHAN, I AM THE GOOD STUDENT OF DATA SCIENCE AT ATOMCAMP'"
      ]
     },
     "execution_count": 12,
     "metadata": {},
     "output_type": "execute_result"
    }
   ],
   "source": [
    " uppercase_sentence"
   ]
  },
  {
   "cell_type": "code",
   "execution_count": 13,
   "id": "5723ac3a",
   "metadata": {},
   "outputs": [
    {
     "data": {
      "text/plain": [
       "'My name is  M.Hamid Khan, I am the excellent student of Data Science at Atomcamp'"
      ]
     },
     "execution_count": 13,
     "metadata": {},
     "output_type": "execute_result"
    }
   ],
   "source": [
    "replaced_sentence"
   ]
  },
  {
   "cell_type": "code",
   "execution_count": 14,
   "id": "90aa9576",
   "metadata": {},
   "outputs": [
    {
     "data": {
      "text/plain": [
       "True"
      ]
     },
     "execution_count": 14,
     "metadata": {},
     "output_type": "execute_result"
    }
   ],
   "source": [
    "check_substring"
   ]
  },
  {
   "cell_type": "code",
   "execution_count": 60,
   "id": "b679119b",
   "metadata": {},
   "outputs": [
    {
     "data": {
      "text/plain": [
       "['My',\n",
       " 'name',\n",
       " 'is',\n",
       " 'good',\n",
       " 'M.Hamid',\n",
       " 'Khan,',\n",
       " 'I',\n",
       " 'am',\n",
       " 'the',\n",
       " 'student',\n",
       " 'of',\n",
       " 'Data',\n",
       " 'Science',\n",
       " 'at',\n",
       " 'Atomcamp']"
      ]
     },
     "execution_count": 60,
     "metadata": {},
     "output_type": "execute_result"
    }
   ],
   "source": [
    "split_sentence"
   ]
  }
 ],
 "metadata": {
  "kernelspec": {
   "display_name": "Python 3 (ipykernel)",
   "language": "python",
   "name": "python3"
  },
  "language_info": {
   "codemirror_mode": {
    "name": "ipython",
    "version": 3
   },
   "file_extension": ".py",
   "mimetype": "text/x-python",
   "name": "python",
   "nbconvert_exporter": "python",
   "pygments_lexer": "ipython3",
   "version": "3.11.5"
  }
 },
 "nbformat": 4,
 "nbformat_minor": 5
}
